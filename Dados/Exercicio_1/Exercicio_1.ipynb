{
 "cells": [
  {
   "cell_type": "markdown",
   "id": "4c8e764b",
   "metadata": {},
   "source": [
    "### Solução Execício 1 -  Tutoria de Machine Learning 2-2025"
   ]
  },
  {
   "cell_type": "markdown",
   "id": "ead8d68a",
   "metadata": {},
   "source": [
    "Utilizando esse conjunto de dados: https://www.kaggle.com/datasets/disham993/9000-movies-dataset\n",
    "\n",
    "Responda as seguintes perguntas:\n",
    "\n",
    "1. Qual tamanho do DataSet?\n",
    "2. Quantas linhas?\n",
    "3. Quantas colunas?\n",
    "4. Qual o tipo de variável de cada coluna?\n",
    "5. Qual o filme com maior número de votaçôes?\n",
    "6. Qual filme teve a maior nota (critério de desempate é o filme com mais votos)\n",
    "7. Existem valores nulos? Se sim, qual tratamento irá realizar? (Se não temos nome de algum filme, melhor nem considerar)\n",
    "8. Transforme as variaveis categóricas de linguagem e genero em númericas (utilize dummy)\n",
    "9. Normalize as variaveis numéricas\n",
    "10. Armazene esses valores como um artefato dentro do MLFlow\n",
    "11. Quais insights é possivel obter desses dados?"
   ]
  },
  {
   "cell_type": "code",
   "execution_count": 47,
   "id": "47f46a76",
   "metadata": {},
   "outputs": [],
   "source": [
    "# Importando Bibliotecas\n",
    "import pandas as pd\n",
    "import numpy as np\n",
    "# Bibliotecas para aprendizado de máquina\n",
    "from sklearn.preprocessing import StandardScaler, MinMaxScaler\n",
    "\n",
    "import mlflow"
   ]
  },
  {
   "cell_type": "code",
   "execution_count": 48,
   "id": "7b0400fa",
   "metadata": {},
   "outputs": [
    {
     "data": {
      "text/html": [
       "<div>\n",
       "<style scoped>\n",
       "    .dataframe tbody tr th:only-of-type {\n",
       "        vertical-align: middle;\n",
       "    }\n",
       "\n",
       "    .dataframe tbody tr th {\n",
       "        vertical-align: top;\n",
       "    }\n",
       "\n",
       "    .dataframe thead th {\n",
       "        text-align: right;\n",
       "    }\n",
       "</style>\n",
       "<table border=\"1\" class=\"dataframe\">\n",
       "  <thead>\n",
       "    <tr style=\"text-align: right;\">\n",
       "      <th></th>\n",
       "      <th>Release_Date</th>\n",
       "      <th>Title</th>\n",
       "      <th>Overview</th>\n",
       "      <th>Popularity</th>\n",
       "      <th>Vote_Count</th>\n",
       "      <th>Vote_Average</th>\n",
       "      <th>Original_Language</th>\n",
       "      <th>Genre</th>\n",
       "      <th>Poster_Url</th>\n",
       "    </tr>\n",
       "  </thead>\n",
       "  <tbody>\n",
       "    <tr>\n",
       "      <th>0</th>\n",
       "      <td>2021-12-15</td>\n",
       "      <td>Spider-Man: No Way Home</td>\n",
       "      <td>Peter Parker is unmasked and no longer able to...</td>\n",
       "      <td>5083.954</td>\n",
       "      <td>8940</td>\n",
       "      <td>8.3</td>\n",
       "      <td>en</td>\n",
       "      <td>Action, Adventure, Science Fiction</td>\n",
       "      <td>https://image.tmdb.org/t/p/original/1g0dhYtq4i...</td>\n",
       "    </tr>\n",
       "    <tr>\n",
       "      <th>1</th>\n",
       "      <td>2022-03-01</td>\n",
       "      <td>The Batman</td>\n",
       "      <td>In his second year of fighting crime, Batman u...</td>\n",
       "      <td>3827.658</td>\n",
       "      <td>1151</td>\n",
       "      <td>8.1</td>\n",
       "      <td>en</td>\n",
       "      <td>Crime, Mystery, Thriller</td>\n",
       "      <td>https://image.tmdb.org/t/p/original/74xTEgt7R3...</td>\n",
       "    </tr>\n",
       "    <tr>\n",
       "      <th>2</th>\n",
       "      <td>2022-02-25</td>\n",
       "      <td>No Exit</td>\n",
       "      <td>Stranded at a rest stop in the mountains durin...</td>\n",
       "      <td>2618.087</td>\n",
       "      <td>122</td>\n",
       "      <td>6.3</td>\n",
       "      <td>en</td>\n",
       "      <td>Thriller</td>\n",
       "      <td>https://image.tmdb.org/t/p/original/vDHsLnOWKl...</td>\n",
       "    </tr>\n",
       "    <tr>\n",
       "      <th>3</th>\n",
       "      <td>2021-11-24</td>\n",
       "      <td>Encanto</td>\n",
       "      <td>The tale of an extraordinary family, the Madri...</td>\n",
       "      <td>2402.201</td>\n",
       "      <td>5076</td>\n",
       "      <td>7.7</td>\n",
       "      <td>en</td>\n",
       "      <td>Animation, Comedy, Family, Fantasy</td>\n",
       "      <td>https://image.tmdb.org/t/p/original/4j0PNHkMr5...</td>\n",
       "    </tr>\n",
       "    <tr>\n",
       "      <th>4</th>\n",
       "      <td>2021-12-22</td>\n",
       "      <td>The King's Man</td>\n",
       "      <td>As a collection of history's worst tyrants and...</td>\n",
       "      <td>1895.511</td>\n",
       "      <td>1793</td>\n",
       "      <td>7.0</td>\n",
       "      <td>en</td>\n",
       "      <td>Action, Adventure, Thriller, War</td>\n",
       "      <td>https://image.tmdb.org/t/p/original/aq4Pwv5Xeu...</td>\n",
       "    </tr>\n",
       "  </tbody>\n",
       "</table>\n",
       "</div>"
      ],
      "text/plain": [
       "  Release_Date                    Title  \\\n",
       "0   2021-12-15  Spider-Man: No Way Home   \n",
       "1   2022-03-01               The Batman   \n",
       "2   2022-02-25                  No Exit   \n",
       "3   2021-11-24                  Encanto   \n",
       "4   2021-12-22           The King's Man   \n",
       "\n",
       "                                            Overview  Popularity Vote_Count  \\\n",
       "0  Peter Parker is unmasked and no longer able to...    5083.954       8940   \n",
       "1  In his second year of fighting crime, Batman u...    3827.658       1151   \n",
       "2  Stranded at a rest stop in the mountains durin...    2618.087        122   \n",
       "3  The tale of an extraordinary family, the Madri...    2402.201       5076   \n",
       "4  As a collection of history's worst tyrants and...    1895.511       1793   \n",
       "\n",
       "  Vote_Average Original_Language                               Genre  \\\n",
       "0          8.3                en  Action, Adventure, Science Fiction   \n",
       "1          8.1                en            Crime, Mystery, Thriller   \n",
       "2          6.3                en                            Thriller   \n",
       "3          7.7                en  Animation, Comedy, Family, Fantasy   \n",
       "4          7.0                en    Action, Adventure, Thriller, War   \n",
       "\n",
       "                                          Poster_Url  \n",
       "0  https://image.tmdb.org/t/p/original/1g0dhYtq4i...  \n",
       "1  https://image.tmdb.org/t/p/original/74xTEgt7R3...  \n",
       "2  https://image.tmdb.org/t/p/original/vDHsLnOWKl...  \n",
       "3  https://image.tmdb.org/t/p/original/4j0PNHkMr5...  \n",
       "4  https://image.tmdb.org/t/p/original/aq4Pwv5Xeu...  "
      ]
     },
     "execution_count": 48,
     "metadata": {},
     "output_type": "execute_result"
    }
   ],
   "source": [
    "#Carregando dados\n",
    "df = pd.read_csv('mymoviedb.csv', engine='python')\n",
    "df.head()"
   ]
  },
  {
   "cell_type": "markdown",
   "id": "2d9c4b67",
   "metadata": {},
   "source": [
    "### 1. Qual tamanho do DataSet?"
   ]
  },
  {
   "cell_type": "code",
   "execution_count": 49,
   "id": "4e4dfa25",
   "metadata": {},
   "outputs": [
    {
     "name": "stdout",
     "output_type": "stream",
     "text": [
      "1. Qual tamanho do DataSet?\n",
      "O dataset possuí o tamanho de 88533 elementos.\n",
      "\n",
      "2. Quantas linhas?\n",
      "Número de linhas igual a 9837.\n",
      "\n",
      "3. Quantas colunas?\n",
      "Número de colunas igula a 9.\n"
     ]
    }
   ],
   "source": [
    "\n",
    "tamanho = df.shape\n",
    "print(f'1. Qual tamanho do DataSet?\\nO dataset possuí o tamanho de {df.size} elementos.')\n",
    "print()\n",
    "print(f'2. Quantas linhas?\\nNúmero de linhas igual a {tamanho[0]}.')\n",
    "print()\n",
    "print(f'3. Quantas colunas?\\nNúmero de colunas igula a {tamanho[1]}.')\n"
   ]
  },
  {
   "cell_type": "markdown",
   "id": "071cd9dd",
   "metadata": {},
   "source": [
    "### 4. Qual o tipo de variável de cada coluna?"
   ]
  },
  {
   "cell_type": "code",
   "execution_count": 50,
   "id": "3c844b8b",
   "metadata": {},
   "outputs": [
    {
     "name": "stdout",
     "output_type": "stream",
     "text": [
      "<class 'pandas.core.frame.DataFrame'>\n",
      "RangeIndex: 9837 entries, 0 to 9836\n",
      "Data columns (total 9 columns):\n",
      " #   Column             Non-Null Count  Dtype  \n",
      "---  ------             --------------  -----  \n",
      " 0   Release_Date       9837 non-null   object \n",
      " 1   Title              9828 non-null   object \n",
      " 2   Overview           9828 non-null   object \n",
      " 3   Popularity         9827 non-null   float64\n",
      " 4   Vote_Count         9827 non-null   object \n",
      " 5   Vote_Average       9827 non-null   object \n",
      " 6   Original_Language  9827 non-null   object \n",
      " 7   Genre              9826 non-null   object \n",
      " 8   Poster_Url         9826 non-null   object \n",
      "dtypes: float64(1), object(8)\n",
      "memory usage: 691.8+ KB\n"
     ]
    }
   ],
   "source": [
    "df.info()"
   ]
  },
  {
   "cell_type": "markdown",
   "id": "25837c28",
   "metadata": {},
   "source": [
    "### 5. Qual o filme com maior número de votaçôes?"
   ]
  },
  {
   "cell_type": "code",
   "execution_count": 51,
   "id": "4ed86a34",
   "metadata": {},
   "outputs": [
    {
     "name": "stdout",
     "output_type": "stream",
     "text": [
      "<class 'pandas.core.frame.DataFrame'>\n",
      "RangeIndex: 9837 entries, 0 to 9836\n",
      "Data columns (total 9 columns):\n",
      " #   Column             Non-Null Count  Dtype  \n",
      "---  ------             --------------  -----  \n",
      " 0   Release_Date       9837 non-null   object \n",
      " 1   Title              9828 non-null   object \n",
      " 2   Overview           9828 non-null   object \n",
      " 3   Popularity         9827 non-null   float64\n",
      " 4   Vote_Count         9826 non-null   float64\n",
      " 5   Vote_Average       9826 non-null   float64\n",
      " 6   Original_Language  9827 non-null   object \n",
      " 7   Genre              9826 non-null   object \n",
      " 8   Poster_Url         9826 non-null   object \n",
      "dtypes: float64(3), object(6)\n",
      "memory usage: 691.8+ KB\n"
     ]
    }
   ],
   "source": [
    "#Transformando valores da coluna Vote_Average de object para float\n",
    "df['Popularity'] = pd.to_numeric(df['Popularity'], errors='coerce')\n",
    "df['Vote_Count'] = pd.to_numeric(df['Vote_Count'], errors='coerce')\n",
    "df['Vote_Average'] = pd.to_numeric(df['Vote_Average'], errors = 'coerce')\n",
    "df.info()"
   ]
  },
  {
   "cell_type": "code",
   "execution_count": 52,
   "id": "510f7746",
   "metadata": {},
   "outputs": [
    {
     "name": "stdout",
     "output_type": "stream",
     "text": [
      "Votos: 31077\n",
      "Titulo: Inception\n"
     ]
    }
   ],
   "source": [
    "#Filtrando valores para o filme de maior número de votos\n",
    "\n",
    "mais_votado = df['Vote_Count'].max()\n",
    "nome = df.loc[df['Vote_Count']== mais_votado, 'Title']\n",
    "\n",
    "# Exibindo Resultados\n",
    "print(f'Votos: {mais_votado:.0f}')\n",
    "print(f'Titulo: {nome.values[0]}')"
   ]
  },
  {
   "cell_type": "markdown",
   "id": "bbf1b64e",
   "metadata": {},
   "source": [
    "### 6. Qual filme teve a maior nota (critério de desempate é o filme com mais votos)"
   ]
  },
  {
   "cell_type": "code",
   "execution_count": 53,
   "id": "4c47e7f7",
   "metadata": {},
   "outputs": [
    {
     "name": "stdout",
     "output_type": "stream",
     "text": [
      "Título: Kung Fu Master Huo Yuanjia\n",
      "Nota: 10.0\n",
      "Votos: 1.0\n"
     ]
    }
   ],
   "source": [
    "\n",
    "\n",
    "#Filtrando maior nota\n",
    "maior_nota = df['Vote_Average'].max()\n",
    "\n",
    "#Verificando se há mais de um filme com maior nota\n",
    "empate = df[df['Vote_Average'] == maior_nota]\n",
    "\n",
    "#Filme com maior nota e maior número de votos\n",
    "vencedor = empate.loc[empate['Vote_Count'].idxmax()]\n",
    "\n",
    "# Exibindo resultado\n",
    "print(f\"Título: {vencedor['Title']}\")\n",
    "print(f\"Nota: {vencedor['Vote_Average']}\")\n",
    "print(f\"Votos: {vencedor['Vote_Count']}\")"
   ]
  },
  {
   "cell_type": "markdown",
   "id": "0ae8f6cf",
   "metadata": {},
   "source": [
    "### 7. Existem valores nulos? Se sim, qual tratamento irá realizar? (Se não temos nome de algum filme, melhor nem considerar"
   ]
  },
  {
   "cell_type": "code",
   "execution_count": 54,
   "id": "89dbfa46",
   "metadata": {},
   "outputs": [
    {
     "data": {
      "text/plain": [
       "Release_Date          0\n",
       "Title                 9\n",
       "Overview              9\n",
       "Popularity           10\n",
       "Vote_Count           11\n",
       "Vote_Average         11\n",
       "Original_Language    10\n",
       "Genre                11\n",
       "Poster_Url           11\n",
       "dtype: int64"
      ]
     },
     "execution_count": 54,
     "metadata": {},
     "output_type": "execute_result"
    }
   ],
   "source": [
    "df.isnull().sum()\n"
   ]
  },
  {
   "cell_type": "markdown",
   "id": "21e6a84d",
   "metadata": {},
   "source": [
    "Primeiro tratamento para os valores vazios. \n",
    "Excluir as linhas da coluna Titulo que estão vazias, pois sem o nome do filme não é possível fazer analises.\n",
    "Após remover verificar novamente os valores vazios das demais colunas."
   ]
  },
  {
   "cell_type": "code",
   "execution_count": 55,
   "id": "a6049f5b",
   "metadata": {},
   "outputs": [
    {
     "data": {
      "text/plain": [
       "Release_Date         0\n",
       "Title                0\n",
       "Overview             0\n",
       "Popularity           1\n",
       "Vote_Count           2\n",
       "Vote_Average         2\n",
       "Original_Language    1\n",
       "Genre                2\n",
       "Poster_Url           2\n",
       "dtype: int64"
      ]
     },
     "execution_count": 55,
     "metadata": {},
     "output_type": "execute_result"
    }
   ],
   "source": [
    "df = df.dropna(subset=['Title'])\n",
    "df.isnull().sum()"
   ]
  },
  {
   "cell_type": "markdown",
   "id": "a5c9093f",
   "metadata": {},
   "source": [
    "Os valores restantes em condição vazio podem ser tratadas da seguinte forma:\n",
    "\n",
    "Overview: pode ficar vazia\n",
    "\n",
    "Popularity: substituir por zero\n",
    "\n",
    "Vote_Count: substituir por zero\n",
    "\n",
    "Vote_Average: substituir pela média da coluna\n",
    "\n",
    "Original_Lenguage: substituir por desconhecido \"unknown\"\n",
    "\n",
    "Genre: substituir por desconhecido \"unknown\"\n",
    "\n",
    "Post_Url: pode ficar vazia\n",
    "\n"
   ]
  },
  {
   "cell_type": "code",
   "execution_count": 56,
   "id": "95a6013a",
   "metadata": {},
   "outputs": [
    {
     "name": "stdout",
     "output_type": "stream",
     "text": [
      "<class 'pandas.core.frame.DataFrame'>\n",
      "Int64Index: 9828 entries, 0 to 9836\n",
      "Data columns (total 9 columns):\n",
      " #   Column             Non-Null Count  Dtype  \n",
      "---  ------             --------------  -----  \n",
      " 0   Release_Date       9828 non-null   object \n",
      " 1   Title              9828 non-null   object \n",
      " 2   Overview           9828 non-null   object \n",
      " 3   Popularity         9827 non-null   float64\n",
      " 4   Vote_Count         9826 non-null   float64\n",
      " 5   Vote_Average       9826 non-null   float64\n",
      " 6   Original_Language  9827 non-null   object \n",
      " 7   Genre              9826 non-null   object \n",
      " 8   Poster_Url         9826 non-null   object \n",
      "dtypes: float64(3), object(6)\n",
      "memory usage: 767.8+ KB\n"
     ]
    }
   ],
   "source": [
    "df.info()"
   ]
  },
  {
   "cell_type": "code",
   "execution_count": 57,
   "id": "3b5cca90",
   "metadata": {},
   "outputs": [
    {
     "data": {
      "text/plain": [
       "Release_Date         0\n",
       "Title                0\n",
       "Overview             0\n",
       "Popularity           0\n",
       "Vote_Count           0\n",
       "Vote_Average         2\n",
       "Original_Language    0\n",
       "Genre                0\n",
       "Poster_Url           2\n",
       "dtype: int64"
      ]
     },
     "execution_count": 57,
     "metadata": {},
     "output_type": "execute_result"
    }
   ],
   "source": [
    "for col in ['Popularity', 'Vote_Count']:\n",
    "    df[col] = df[col].fillna(0)\n",
    "\n",
    "for col in ['Vote_Average']:\n",
    "    df[col] = df[col].fillna(df[col].mode())\n",
    "\n",
    "for col in ['Original_Language', 'Genre']:\n",
    "    df[col] = df[col].fillna('unknow')\n",
    "\n",
    "\n",
    "\n",
    "df.isnull().sum()"
   ]
  },
  {
   "cell_type": "markdown",
   "id": "8afb06b1",
   "metadata": {},
   "source": [
    "### 8. Transforme as variaveis categóricas de linguagem e genero em númericas (utilize dummy)"
   ]
  },
  {
   "cell_type": "code",
   "execution_count": 58,
   "id": "feb97da1",
   "metadata": {},
   "outputs": [
    {
     "data": {
      "text/plain": [
       "(9828, 2388)"
      ]
     },
     "execution_count": 58,
     "metadata": {},
     "output_type": "execute_result"
    }
   ],
   "source": [
    "# Gerar as colunas one-hot\n",
    "df_one_hot = pd.get_dummies(df[['Original_Language', 'Genre']], drop_first='False', dtype=int)\n",
    "\n",
    "# Remover as colunas originais\n",
    "df.drop(['Original_Language', 'Genre'], axis=1, inplace=True)\n",
    "\n",
    "# Concatenar as novas colunas codificadas\n",
    "df = pd.concat([df, df_one_hot], axis=1)\n",
    "df.shape\n"
   ]
  },
  {
   "cell_type": "markdown",
   "id": "78afd36a",
   "metadata": {},
   "source": [
    "### 9. Normalize as variaveis numéricas"
   ]
  },
  {
   "cell_type": "code",
   "execution_count": 59,
   "id": "c0cea231",
   "metadata": {},
   "outputs": [
    {
     "name": "stdout",
     "output_type": "stream",
     "text": [
      "Visualização após Normalização (Min-Max):\n"
     ]
    },
    {
     "data": {
      "text/html": [
       "<div>\n",
       "<style scoped>\n",
       "    .dataframe tbody tr th:only-of-type {\n",
       "        vertical-align: middle;\n",
       "    }\n",
       "\n",
       "    .dataframe tbody tr th {\n",
       "        vertical-align: top;\n",
       "    }\n",
       "\n",
       "    .dataframe thead th {\n",
       "        text-align: right;\n",
       "    }\n",
       "</style>\n",
       "<table border=\"1\" class=\"dataframe\">\n",
       "  <thead>\n",
       "    <tr style=\"text-align: right;\">\n",
       "      <th></th>\n",
       "      <th>count</th>\n",
       "      <th>mean</th>\n",
       "      <th>std</th>\n",
       "      <th>min</th>\n",
       "      <th>25%</th>\n",
       "      <th>50%</th>\n",
       "      <th>75%</th>\n",
       "      <th>max</th>\n",
       "    </tr>\n",
       "  </thead>\n",
       "  <tbody>\n",
       "    <tr>\n",
       "      <th>Popularity</th>\n",
       "      <td>9828.0</td>\n",
       "      <td>0.007930</td>\n",
       "      <td>0.021414</td>\n",
       "      <td>0.0</td>\n",
       "      <td>0.003172</td>\n",
       "      <td>0.004168</td>\n",
       "      <td>0.006918</td>\n",
       "      <td>1.0</td>\n",
       "    </tr>\n",
       "    <tr>\n",
       "      <th>Vote_Count</th>\n",
       "      <td>9828.0</td>\n",
       "      <td>0.044813</td>\n",
       "      <td>0.084021</td>\n",
       "      <td>0.0</td>\n",
       "      <td>0.004698</td>\n",
       "      <td>0.014287</td>\n",
       "      <td>0.044277</td>\n",
       "      <td>1.0</td>\n",
       "    </tr>\n",
       "    <tr>\n",
       "      <th>Original_Language_bn</th>\n",
       "      <td>9828.0</td>\n",
       "      <td>0.000102</td>\n",
       "      <td>0.010087</td>\n",
       "      <td>0.0</td>\n",
       "      <td>0.000000</td>\n",
       "      <td>0.000000</td>\n",
       "      <td>0.000000</td>\n",
       "      <td>1.0</td>\n",
       "    </tr>\n",
       "    <tr>\n",
       "      <th>Original_Language_ca</th>\n",
       "      <td>9828.0</td>\n",
       "      <td>0.000102</td>\n",
       "      <td>0.010087</td>\n",
       "      <td>0.0</td>\n",
       "      <td>0.000000</td>\n",
       "      <td>0.000000</td>\n",
       "      <td>0.000000</td>\n",
       "      <td>1.0</td>\n",
       "    </tr>\n",
       "    <tr>\n",
       "      <th>Original_Language_cn</th>\n",
       "      <td>9828.0</td>\n",
       "      <td>0.011091</td>\n",
       "      <td>0.104732</td>\n",
       "      <td>0.0</td>\n",
       "      <td>0.000000</td>\n",
       "      <td>0.000000</td>\n",
       "      <td>0.000000</td>\n",
       "      <td>1.0</td>\n",
       "    </tr>\n",
       "  </tbody>\n",
       "</table>\n",
       "</div>"
      ],
      "text/plain": [
       "                       count      mean       std  min       25%       50%  \\\n",
       "Popularity            9828.0  0.007930  0.021414  0.0  0.003172  0.004168   \n",
       "Vote_Count            9828.0  0.044813  0.084021  0.0  0.004698  0.014287   \n",
       "Original_Language_bn  9828.0  0.000102  0.010087  0.0  0.000000  0.000000   \n",
       "Original_Language_ca  9828.0  0.000102  0.010087  0.0  0.000000  0.000000   \n",
       "Original_Language_cn  9828.0  0.011091  0.104732  0.0  0.000000  0.000000   \n",
       "\n",
       "                           75%  max  \n",
       "Popularity            0.006918  1.0  \n",
       "Vote_Count            0.044277  1.0  \n",
       "Original_Language_bn  0.000000  1.0  \n",
       "Original_Language_ca  0.000000  1.0  \n",
       "Original_Language_cn  0.000000  1.0  "
      ]
     },
     "metadata": {},
     "output_type": "display_data"
    }
   ],
   "source": [
    "df_minimax = df.select_dtypes(include=[np.number]).drop(columns=['Vote_Average'])\n",
    "minimax = MinMaxScaler()\n",
    "df_minimax = pd.DataFrame(minimax.fit_transform(df_minimax), columns=df_minimax.columns)\n",
    "print('Visualização após Normalização (Min-Max):')\n",
    "display(df_minimax.describe().T.head())\n"
   ]
  },
  {
   "cell_type": "code",
   "execution_count": 60,
   "id": "82f8860c",
   "metadata": {},
   "outputs": [
    {
     "name": "stdout",
     "output_type": "stream",
     "text": [
      "Visualizando após Normalização (StandadSacaler)\n"
     ]
    },
    {
     "data": {
      "text/html": [
       "<div>\n",
       "<style scoped>\n",
       "    .dataframe tbody tr th:only-of-type {\n",
       "        vertical-align: middle;\n",
       "    }\n",
       "\n",
       "    .dataframe tbody tr th {\n",
       "        vertical-align: top;\n",
       "    }\n",
       "\n",
       "    .dataframe thead th {\n",
       "        text-align: right;\n",
       "    }\n",
       "</style>\n",
       "<table border=\"1\" class=\"dataframe\">\n",
       "  <thead>\n",
       "    <tr style=\"text-align: right;\">\n",
       "      <th></th>\n",
       "      <th>count</th>\n",
       "      <th>mean</th>\n",
       "      <th>std</th>\n",
       "      <th>min</th>\n",
       "      <th>25%</th>\n",
       "      <th>50%</th>\n",
       "      <th>75%</th>\n",
       "      <th>max</th>\n",
       "    </tr>\n",
       "  </thead>\n",
       "  <tbody>\n",
       "    <tr>\n",
       "      <th>Popularity</th>\n",
       "      <td>9828.0</td>\n",
       "      <td>-4.712348e-16</td>\n",
       "      <td>1.000051</td>\n",
       "      <td>-0.370338</td>\n",
       "      <td>-0.222204</td>\n",
       "      <td>-0.175696</td>\n",
       "      <td>-0.047277</td>\n",
       "      <td>46.329715</td>\n",
       "    </tr>\n",
       "    <tr>\n",
       "      <th>Vote_Count</th>\n",
       "      <td>9828.0</td>\n",
       "      <td>-1.028815e-15</td>\n",
       "      <td>1.000051</td>\n",
       "      <td>-0.533386</td>\n",
       "      <td>-0.477468</td>\n",
       "      <td>-0.363335</td>\n",
       "      <td>-0.006381</td>\n",
       "      <td>11.369038</td>\n",
       "    </tr>\n",
       "    <tr>\n",
       "      <th>Original_Language_bn</th>\n",
       "      <td>9828.0</td>\n",
       "      <td>6.199515e-16</td>\n",
       "      <td>1.000051</td>\n",
       "      <td>-0.010088</td>\n",
       "      <td>-0.010088</td>\n",
       "      <td>-0.010088</td>\n",
       "      <td>-0.010088</td>\n",
       "      <td>99.131226</td>\n",
       "    </tr>\n",
       "    <tr>\n",
       "      <th>Original_Language_ca</th>\n",
       "      <td>9828.0</td>\n",
       "      <td>3.820797e-16</td>\n",
       "      <td>1.000051</td>\n",
       "      <td>-0.010088</td>\n",
       "      <td>-0.010088</td>\n",
       "      <td>-0.010088</td>\n",
       "      <td>-0.010088</td>\n",
       "      <td>99.131226</td>\n",
       "    </tr>\n",
       "    <tr>\n",
       "      <th>Original_Language_cn</th>\n",
       "      <td>9828.0</td>\n",
       "      <td>-3.624082e-15</td>\n",
       "      <td>1.000051</td>\n",
       "      <td>-0.105902</td>\n",
       "      <td>-0.105902</td>\n",
       "      <td>-0.105902</td>\n",
       "      <td>-0.105902</td>\n",
       "      <td>9.442729</td>\n",
       "    </tr>\n",
       "  </tbody>\n",
       "</table>\n",
       "</div>"
      ],
      "text/plain": [
       "                       count          mean       std       min       25%  \\\n",
       "Popularity            9828.0 -4.712348e-16  1.000051 -0.370338 -0.222204   \n",
       "Vote_Count            9828.0 -1.028815e-15  1.000051 -0.533386 -0.477468   \n",
       "Original_Language_bn  9828.0  6.199515e-16  1.000051 -0.010088 -0.010088   \n",
       "Original_Language_ca  9828.0  3.820797e-16  1.000051 -0.010088 -0.010088   \n",
       "Original_Language_cn  9828.0 -3.624082e-15  1.000051 -0.105902 -0.105902   \n",
       "\n",
       "                           50%       75%        max  \n",
       "Popularity           -0.175696 -0.047277  46.329715  \n",
       "Vote_Count           -0.363335 -0.006381  11.369038  \n",
       "Original_Language_bn -0.010088 -0.010088  99.131226  \n",
       "Original_Language_ca -0.010088 -0.010088  99.131226  \n",
       "Original_Language_cn -0.105902 -0.105902   9.442729  "
      ]
     },
     "metadata": {},
     "output_type": "display_data"
    }
   ],
   "source": [
    "df_standard = df.select_dtypes(include=[np.number]).drop(columns=['Vote_Average'])\n",
    "standard = StandardScaler()\n",
    "df_standard = pd.DataFrame(standard.fit_transform(df_standard), columns=df_standard.columns)\n",
    "print('Visualizando após Normalização (StandadSacaler)')\n",
    "display(df_standard.describe().T.head())"
   ]
  },
  {
   "cell_type": "code",
   "execution_count": 61,
   "id": "1c4466c9",
   "metadata": {},
   "outputs": [
    {
     "name": "stdout",
     "output_type": "stream",
     "text": [
      "dados_processados salvo: dados_processados.csv | shape: (9828, 2383)\n"
     ]
    }
   ],
   "source": [
    "# Escolhendo MiniMaxScaler como técnica\n",
    "# Renomear dataset final\n",
    "dados_processados = df_minimax.copy()\n",
    "\n",
    "# Salvar\n",
    "processed_data_path = \"dados_processados.csv\"\n",
    "dados_processados.to_csv(processed_data_path, index=False)\n",
    "print(f\"dados_processados salvo: {processed_data_path} | shape: {dados_processados.shape}\")"
   ]
  },
  {
   "cell_type": "markdown",
   "id": "51346505",
   "metadata": {},
   "source": [
    "### Armazenamento e Versionamento de Features com MLflow"
   ]
  },
  {
   "cell_type": "code",
   "execution_count": 62,
   "id": "4509d4ba",
   "metadata": {},
   "outputs": [
    {
     "name": "stdout",
     "output_type": "stream",
     "text": [
      "Dataset processado salvo localmente.\n",
      "Features armazenadas e versionadas com sucesso no MLflow!\n"
     ]
    }
   ],
   "source": [
    "# Salvar o dataset processado como um arquivo CSV\n",
    "processed_data_path = \"dados_processados.csv\"\n",
    "dados_processados.to_csv(processed_data_path, index=False)\n",
    "print(\"Dataset processado salvo localmente.\")\n",
    "\n",
    "# Registrar o dataset processado como artefato no MLflow\n",
    "mlflow.start_run()  # Iniciar um novo experimento\n",
    "mlflow.log_artifact(processed_data_path)  # Registrar o arquivo como artefato\n",
    "mlflow.end_run()  # Encerrar o experimento\n",
    "\n",
    "print(\"Features armazenadas e versionadas com sucesso no MLflow!\")"
   ]
  }
 ],
 "metadata": {
  "kernelspec": {
   "display_name": "base",
   "language": "python",
   "name": "python3"
  },
  "language_info": {
   "codemirror_mode": {
    "name": "ipython",
    "version": 3
   },
   "file_extension": ".py",
   "mimetype": "text/x-python",
   "name": "python",
   "nbconvert_exporter": "python",
   "pygments_lexer": "ipython3",
   "version": "3.9.13"
  }
 },
 "nbformat": 4,
 "nbformat_minor": 5
}
